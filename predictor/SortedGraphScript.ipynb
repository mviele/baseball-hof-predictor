{
 "cells": [
  {
   "cell_type": "code",
   "execution_count": 6,
   "metadata": {
    "collapsed": false
   },
   "outputs": [
    {
     "name": "stdout",
     "output_type": "stream",
     "text": [
      "Reading data...\n",
      "\n",
      "Training data: \n",
      "Shape: (3391, 28)\n",
      "            W    L    G   GS  CG  SHO  SV  IPouts     H   ER    ...      \\\n",
      "playerID                                                        ...       \n",
      "aasedo01   66   60  448   91  22    5  82  3328.0  1085  468    ...       \n",
      "abbeybe01  22   40   79   66  52    0   1  1704.0   686  285    ...       \n",
      "abbotgl01  62   83  248  206  37    5   0  3858.0  1405  627    ...       \n",
      "abbotji01  87  108  263  254  31    6   0  5022.0  1779  791    ...       \n",
      "abbotky01   4   17   57   22   0    0   0   556.0   207  107    ...       \n",
      "\n",
      "              GF    R  SH  SF       ERA  AllStar  MVP  CyYoung  \\\n",
      "playerID                                                         \n",
      "aasedo01   234.0  503 NaN NaN  3.796875      1.0  0.0      0.0   \n",
      "abbeybe01   12.0  442 NaN NaN  4.515845      NaN  NaN      NaN   \n",
      "abbotgl01   13.0  707 NaN NaN  4.388025      0.0  0.0      0.0   \n",
      "abbotji01    5.0  880 NaN NaN  4.252688      0.0  0.0      0.0   \n",
      "abbotky01    4.0  112 NaN NaN  5.196043      0.0  0.0      0.0   \n",
      "\n",
      "           WorldSeriesMVP  GoldGlove  \n",
      "playerID                              \n",
      "aasedo01              0.0        0.0  \n",
      "abbeybe01             NaN        NaN  \n",
      "abbotgl01             0.0        0.0  \n",
      "abbotji01             0.0        0.0  \n",
      "abbotky01             0.0        0.0  \n",
      "\n",
      "[5 rows x 28 columns]\n",
      "\n",
      "AUC: 0.973802752488\n",
      "Training...\n",
      "Bagging parameters:\n",
      "    Number of trees: 37\n",
      "\n",
      "Program complete!\n",
      "\n"
     ]
    }
   ],
   "source": [
    "#Python 3\n",
    "\n",
    "import pandas as pd\n",
    "import numpy as np\n",
    "from xgboost import XGBClassifier as xg\n",
    "from sklearn.metrics import roc_auc_score\n",
    "from sklearn.preprocessing import normalize\n",
    "from sklearn.cross_validation import StratifiedKFold\n",
    "\n",
    "#First 37 Ramanujan primes\n",
    "seed = [2, 11, 17, 29, 41, 47, 59, 67, 71, 97, 101, 107, 127, 149, 151, 167, 179, 181, 227, 229, \n",
    "        233, 239, 241, 263, 269, 281, 307, 311, 347, 349, 367, 373, 401, 409, 419, 431, 433]\n",
    "\n",
    "\n",
    "def make_submission(csv_name, idx, preds):\n",
    "    submission = pd.DataFrame({ 'id': idx,\n",
    "                                'HOF': preds })\n",
    "    submission.to_csv(csv_name + \".csv\", index=False, columns = ['id', 'HOF'])\n",
    "\n",
    "\n",
    "def estimator_bagging(model, X_train, y_train, X_cv):\n",
    "\n",
    "    predictions = [0.0  for d in range(0, (X_cv.shape[0]))]\n",
    "\n",
    "    for n in range (0, len(seed)):\n",
    "        model.set_params(seed = seed[n])\n",
    "        model.fit(X_train, y_train)\n",
    "        preds = model.predict_proba(X_cv)[:,1]\n",
    "        for j in range (0, (X_cv.shape[0])):\n",
    "                 predictions[j] += preds[j]\n",
    "\n",
    "    for j in range (0, len(predictions)):\n",
    "                 predictions[j] /= float(len(seed))\n",
    "\n",
    "    return np.array(predictions)\n",
    "\n",
    "\n",
    "\n",
    "\n",
    "model = xg(learning_rate=0.095, gamma=0.8, max_depth=5, subsample=0.9,\n",
    "                min_child_weight=0.8, colsample_bytree=0.5,\n",
    "                objective='binary:logistic', seed=seed)\n",
    "\n",
    "print ('Reading data...')\n",
    "X_train = pd.read_csv('combined_stats_train.csv', sep=',', header=0)\n",
    "X_train = X_train.set_index('playerID')\n",
    "y_train = X_train.ix[:,'HOF']\n",
    "X_train.drop('HOF', axis=1, inplace=True)\n",
    "\n",
    "X_test = pd.read_csv('combined_stats_test.csv', sep=',', header=0)\n",
    "X_test = X_test.set_index('playerID')\n",
    "id_test = X_test.index.values\n",
    "    \n",
    "\n",
    "print ('')\n",
    "print ('Training data: ')\n",
    "print ('Shape: ' + str(X_train.shape))\n",
    "print (X_train.head())\n",
    "print ('')\n",
    "\n",
    "\n",
    "num_folds = 5 \n",
    "num_trees = len(seed) \n",
    "\n",
    "mean_auc = 0.0\n",
    "i = 0\n",
    "folds = StratifiedKFold(y_train, n_folds=num_folds, shuffle=True, random_state=seed[6])\n",
    "\n",
    "for trainIndex, testIndex in folds:\n",
    "        X_train_part, x_crossval = X_train.iloc[trainIndex], X_train.iloc[testIndex]\n",
    "        y_train_part, y_crossval = np.array(y_train)[trainIndex], np.array(y_train)[testIndex]\n",
    "\n",
    "        preds = estimator_bagging(model, X_train_part, y_train_part, x_crossval)\n",
    "\n",
    "        roc_auc = roc_auc_score(y_crossval, preds)\n",
    "        mean_auc += roc_auc\n",
    "\n",
    "        i += 1\n",
    "\n",
    "mean_auc /= num_folds\n",
    "print ('AUC: ' + str(mean_auc))\n",
    "\n",
    "\n",
    "print ('Training...')\n",
    "print ('Bagging parameters:')\n",
    "print ('    Number of trees: %d' % (num_trees))\n",
    "preds = estimator_bagging(model, X_train, y_train, X_test)\n",
    "make_submission('predictions', id_test, preds)\n",
    "\n",
    "print ('')\n",
    "print ('Program complete!')\n",
    "print ('')\n",
    "\n",
    "#main()"
   ]
  },
  {
   "cell_type": "code",
   "execution_count": 4,
   "metadata": {
    "collapsed": false
   },
   "outputs": [],
   "source": []
  },
  {
   "cell_type": "code",
   "execution_count": 5,
   "metadata": {
    "collapsed": false
   },
   "outputs": [
    {
     "data": {
      "text/plain": [
       "(751, 28)"
      ]
     },
     "execution_count": 5,
     "metadata": {},
     "output_type": "execute_result"
    }
   ],
   "source": []
  },
  {
   "cell_type": "code",
   "execution_count": 8,
   "metadata": {
    "collapsed": false
   },
   "outputs": [
    {
     "name": "stdout",
     "output_type": "stream",
     "text": [
      "[ 0.16833635]\n"
     ]
    }
   ],
   "source": [
    "z = np.zeros(28).reshape(1,28)\n",
    "z[0,0] = 10000\n",
    "z = pd.DataFrame(z, columns=X_test.columns)\n",
    "preds = estimator_bagging(model, X_train, y_train, z)\n",
    "print (preds)"
   ]
  },
  {
   "cell_type": "code",
   "execution_count": 10,
   "metadata": {
    "collapsed": false
   },
   "outputs": [
    {
     "data": {
      "image/png": "[encoded data removed]",
      "text/plain": [
       "<matplotlib.figure.Figure at 0x18f9426ae10>"
      ]
     },
     "metadata": {},
     "output_type": "display_data"
    }
   ],
   "source": [
    "import matplotlib.pyplot as plt\n",
    "feat_imp = pd.Series(model.booster().get_fscore()).sort_values(ascending=False)\n",
    "feat_imp.plot(kind='bar', title='Feature Importances')\n",
    "plt.ylabel('Feature Importance Score')\n",
    "plt.show()"
   ]
  },
  {
   "cell_type": "code",
   "execution_count": 3,
   "metadata": {
    "collapsed": false
   },
   "outputs": [
    {
     "name": "stdout",
     "output_type": "stream",
     "text": [
      "Reading data...\n",
      "Average number of games played by HOFer: 573\n",
      "\n",
      "Training data: \n",
      "Shape: (3395, 30)\n",
      "            W    L    G   GS  CG  SHO  SV  IPouts     H   ER    ...      SH  \\\n",
      "playerID                                                        ...           \n",
      "aasedo01   66   60  448   91  22    5  82    3328  1085  468    ...     NaN   \n",
      "abbeybe01  22   40   79   66  52    0   1    1704   686  285    ...     NaN   \n",
      "abbotgl01  62   83  248  206  37    5   0    3858  1405  627    ...     NaN   \n",
      "abbotji01  87  108  263  254  31    6   0    5022  1779  791    ...     NaN   \n",
      "abbotky01   4   17   57   22   0    0   0     556   207  107    ...     NaN   \n",
      "\n",
      "           SF       ERA  Mitchell-Report  Positive-Test  AllStar  MVP  \\\n",
      "playerID                                                                \n",
      "aasedo01  NaN  3.796875                0              0      1.0  0.0   \n",
      "abbeybe01 NaN  4.515845                0              0      NaN  NaN   \n",
      "abbotgl01 NaN  4.388025                0              0      0.0  0.0   \n",
      "abbotji01 NaN  4.252688                0              0      0.0  0.0   \n",
      "abbotky01 NaN  5.196043                0              0      0.0  0.0   \n",
      "\n",
      "           CyYoung  WorldSeriesMVP  GoldGlove  \n",
      "playerID                                       \n",
      "aasedo01       0.0             0.0        0.0  \n",
      "abbeybe01      NaN             NaN        NaN  \n",
      "abbotgl01      0.0             0.0        0.0  \n",
      "abbotji01      0.0             0.0        0.0  \n",
      "abbotky01      0.0             0.0        0.0  \n",
      "\n",
      "[5 rows x 30 columns]\n",
      "\n",
      "AUC: 0.975301204819\n",
      "Training...\n",
      "Bagging parameters:\n",
      "    Number of trees: 37\n"
     ]
    },
    {
     "data": {
      "image/png": "[encoded data removed]",
      "text/plain": [
       "<matplotlib.figure.Figure at 0x2be44ef80b8>"
      ]
     },
     "metadata": {},
     "output_type": "display_data"
    },
    {
     "name": "stdout",
     "output_type": "stream",
     "text": [
      "\n",
      "Program complete!\n",
      "\n"
     ]
    }
   ],
   "source": [
    "#Python 3\n",
    "\n",
    "import pandas as pd\n",
    "import numpy as np\n",
    "import math\n",
    "from xgboost import XGBClassifier as xg\n",
    "from matplotlib import pyplot\n",
    "from sklearn.metrics import roc_auc_score\n",
    "from sklearn.preprocessing import normalize\n",
    "from sklearn.cross_validation import StratifiedKFold\n",
    "\n",
    "#First 37 Ramanujan primes\n",
    "seed = [2, 11, 17, 29, 41, 47, 59, 67, 71, 97, 101, 107, 127, 149, 151, 167, 179, 181, 227, 229, \n",
    "        233, 239, 241, 263, 269, 281, 307, 311, 347, 349, 367, 373, 401, 409, 419, 431, 433]\n",
    "\n",
    "\n",
    "def make_submission(csv_name, idx, preds):\n",
    "    submission = pd.DataFrame({ 'id': idx,\n",
    "                                'HOF': preds })\n",
    "    submission.to_csv(csv_name + \".csv\", index=False, columns = ['id', 'HOF'])\n",
    "\n",
    "\n",
    "def estimator_bagging(model, X_train, y_train, X_cv):\n",
    "\n",
    "    predictions = [0.0  for d in range(0, (X_cv.shape[0]))]\n",
    "    feature_import = [0.0 for d in range(0, (X_train.shape[1]))]\n",
    "\n",
    "    for n in range (0, len(seed)):\n",
    "        model.set_params(seed = seed[n])\n",
    "        model.fit(X_train, y_train)\n",
    "        for i in range(0, (X_train.shape[1])):\n",
    "            feature_import[i] += model.feature_importances_[i]\n",
    "        preds = model.predict_proba(X_cv)[:,1]\n",
    "        for j in range (0, (X_cv.shape[0])):\n",
    "            predictions[j] += preds[j]\n",
    "    \n",
    "    for i in range (0, len(feature_import)):\n",
    "        feature_import[i] /= float(len(seed))\n",
    "    for j in range (0, len(predictions)):\n",
    "        predictions[j] /= float(len(seed))\n",
    "\n",
    "    return np.array(predictions), np.array(feature_import)\n",
    "\n",
    "\n",
    "def scale_games(X_test, average_games):\n",
    "    \n",
    "    for p in X_test.index:\n",
    "        scale_val = average_games / X_test.loc[p, 'G']\n",
    "        for f in list(X_test):\n",
    "            if f in ['ERA', 'Mitchell-Report', 'Positive-Test', 'MVP', 'CyYoung', 'WorldSeriesMVP', 'GoldGlove']:\n",
    "                continue\n",
    "            X_test.loc[p, f] *= scale_val\n",
    "    \n",
    "def main():\n",
    "\n",
    "    model = xg(learning_rate=0.095, gamma=0.8, max_depth=5, subsample=0.9,\n",
    "                min_child_weight=0.8, colsample_bytree=0.5,\n",
    "                objective='binary:logistic', seed=seed)\n",
    "\n",
    "    print ('Reading data...')\n",
    "    X_train = pd.read_csv('combined_stats_train.csv', sep=',', header=0)\n",
    "    df = X_train.loc[X_train['HOF'] == 1]\n",
    "    avg_games = math.floor(df['G'].mean())\n",
    "    print(\"Average number of games played by HOFer: \"+str(avg_games))\n",
    "    X_train = X_train.set_index('playerID')\n",
    "    y_train = X_train.ix[:,'HOF']\n",
    "    X_train.drop('HOF', axis=1, inplace=True)\n",
    "\n",
    "    X_test = pd.read_csv('combined_stats_test.csv', sep=',', header=0)\n",
    "    X_test = X_test.set_index('playerID')\n",
    "    id_test = X_test.index.values\n",
    "    \n",
    "\n",
    "    print ('')\n",
    "    print ('Training data: ')\n",
    "    print ('Shape: ' + str(X_train.shape))\n",
    "    print (X_train.head())\n",
    "    print ('')\n",
    "\n",
    "\n",
    "    num_folds = 5 \n",
    "    num_trees = len(seed) \n",
    "\n",
    "    mean_auc = 0.0\n",
    "    i = 0\n",
    "    folds = StratifiedKFold(y_train, n_folds=num_folds, shuffle=True, random_state=seed[0])\n",
    "\n",
    "    for trainIndex, testIndex in folds:\n",
    "        X_train_part, x_crossval = X_train.iloc[trainIndex], X_train.iloc[testIndex]\n",
    "        y_train_part, y_crossval = np.array(y_train)[trainIndex], np.array(y_train)[testIndex]\n",
    "\n",
    "        preds, feats = estimator_bagging(model, X_train_part, y_train_part, x_crossval)\n",
    "\n",
    "        roc_auc = roc_auc_score(y_crossval, preds)\n",
    "        mean_auc += roc_auc\n",
    "\n",
    "        i += 1\n",
    "\n",
    "    mean_auc /= num_folds\n",
    "    print ('AUC: ' + str(mean_auc))\n",
    "\n",
    "\n",
    "    print ('Training...')\n",
    "    print ('Bagging parameters:')\n",
    "    print ('    Number of trees: %d' % (num_trees))\n",
    "    preds, feats = estimator_bagging(model, X_train, y_train, X_test)\n",
    "    make_submission('predictions', id_test, preds)\n",
    "\n",
    "    feat_imp = pd.Series(feats, index=X_train.columns).sort_values(ascending=False)\n",
    "    feat_imp.plot(kind='bar', title='Feature Importances')\n",
    "    pyplot.ylabel('Feature Importance Score')\n",
    "    pyplot.show()\n",
    "\n",
    "    scale_games(X_test, avg_games)\n",
    "    X_test.to_csv(\"scaled_stats.csv\")\n",
    "\n",
    "    preds, feats = estimator_bagging(model, X_train, y_train, X_test)\n",
    "    make_submission('scaled-predictions', id_test, preds)\n",
    "\n",
    "    print ('')\n",
    "    print ('Program complete!')\n",
    "    print ('')\n",
    "\n",
    "main()\n"
   ]
  },
  {
   "cell_type": "code",
   "execution_count": null,
   "metadata": {
    "collapsed": true
   },
   "outputs": [],
   "source": []
  }
 ],
 "metadata": {
  "kernelspec": {
   "display_name": "Python 3",
   "language": "python",
   "name": "python3"
  },
  "language_info": {
   "codemirror_mode": {
    "name": "ipython",
    "version": 3
   },
   "file_extension": ".py",
   "mimetype": "text/x-python",
   "name": "python",
   "nbconvert_exporter": "python",
   "pygments_lexer": "ipython3",
   "version": "3.5.2"
  }
 },
 "nbformat": 4,
 "nbformat_minor": 1
}
